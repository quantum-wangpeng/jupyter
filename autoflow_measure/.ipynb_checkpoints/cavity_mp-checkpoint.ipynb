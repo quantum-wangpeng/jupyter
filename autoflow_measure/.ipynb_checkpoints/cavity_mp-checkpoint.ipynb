{
 "cells": [
  {
   "cell_type": "code",
   "execution_count": 1,
   "id": "9e10b445",
   "metadata": {
    "ExecuteTime": {
     "end_time": "2023-04-26T14:26:42.483019Z",
     "start_time": "2023-04-26T14:26:36.188537Z"
    }
   },
   "outputs": [
    {
     "name": "stdout",
     "output_type": "stream",
     "text": [
      "connecting mongoDB......\n",
      "connected successfully......\n"
     ]
    },
    {
     "name": "stderr",
     "output_type": "stream",
     "text": [
      "F:\\wangpeng\\code\\autoflow\\measureflow\\Envelop.py:630: SyntaxWarning: \"is\" with a literal. Did you mean \"==\"?\n",
      "  elif keyword is 'Arbitrary':\n",
      "F:\\wangpeng\\code\\autoflow\\measureflow\\Envelop.py:632: SyntaxWarning: \"is\" with a literal. Did you mean \"==\"?\n",
      "  elif keyword is 'step':\n",
      "F:\\wangpeng\\code\\autoflow\\measureflow\\Envelop.py:634: SyntaxWarning: \"is\" with a literal. Did you mean \"==\"?\n",
      "  elif keyword is 'flattop':\n",
      "F:\\wangpeng\\code\\autoflow\\measureflow\\Envelop.py:636: SyntaxWarning: \"is\" with a literal. Did you mean \"==\"?\n",
      "  elif keyword is 'flattopGaussian':\n",
      "F:\\wangpeng\\code\\autoflow\\measureflow\\Envelop.py:638: SyntaxWarning: \"is\" with a literal. Did you mean \"==\"?\n",
      "  elif keyword is 'cosine':\n",
      "F:\\wangpeng\\code\\autoflow\\measureflow\\Envelop.py:640: SyntaxWarning: \"is\" with a literal. Did you mean \"==\"?\n",
      "  elif keyword is 'SNZ':\n",
      "F:\\wangpeng\\code\\autoflow\\pyQCat_dp\\instrument\\instrument_aio.py:506: SyntaxWarning: \"is\" with a literal. Did you mean \"==\"?\n",
      "  elif drive_module is 'Z_flux_control':\n",
      "F:\\wangpeng\\code\\autoflow\\pyQCat_dp\\tool\\utlis.py:221: SyntaxWarning: \"is\" with a literal. Did you mean \"==\"?\n",
      "  if thresholdlst.size is 0:\n",
      "F:\\wangpeng\\code\\autoflow\\pyQCat_dp\\tool\\utlis.py:294: SyntaxWarning: \"is\" with a literal. Did you mean \"==\"?\n",
      "  if thresholdlst.size is 0:\n",
      "F:\\wangpeng\\code\\autoflow\\measureflow\\SingleQubit\\getZresponse.py:1775: SyntaxWarning: \"is not\" with a literal. Did you mean \"!=\"?\n",
      "  if xname is not 'Phi':\n",
      "F:\\wangpeng\\code\\autoflow\\measureflow\\SingleQubit\\getZresponse.py:2088: SyntaxWarning: \"is not\" with a literal. Did you mean \"!=\"?\n",
      "  if xname is not 'phi':\n",
      "F:\\wangpeng\\code\\autoflow\\measureflow\\SingleQubit\\getZresponse.py:2175: SyntaxWarning: \"is not\" with a literal. Did you mean \"!=\"?\n",
      "  if xname is not 'phi':\n",
      "F:\\wangpeng\\code\\autoflow\\measureflow\\SingleQubit\\getZresponse.py:2269: SyntaxWarning: \"is not\" with a literal. Did you mean \"!=\"?\n",
      "  if xname is not 'phi':\n"
     ]
    }
   ],
   "source": [
    "%matplotlib notebook\n",
    "import sys\n",
    "# sys.path.append('e:\\\\dp\\\\pythonScirpts\\\\PyQCat30')\n",
    "sys.path.append(r'F:\\wangpeng\\code\\autoflow')\n",
    "from measureflow import *\n",
    "from measureflow.SingleQubit import *\n",
    "import numpy as np\n",
    "import copy\n",
    "import pickle\n",
    "import matplotlib.pyplot as plt\n",
    "import qutip as qp\n",
    "import time\n",
    "# from measureflow.tool.correctQ0 import C1"
   ]
  },
  {
   "cell_type": "code",
   "execution_count": 2,
   "id": "4a773857",
   "metadata": {
    "ExecuteTime": {
     "end_time": "2023-04-26T14:26:49.440336Z",
     "start_time": "2023-04-26T14:26:49.437343Z"
    }
   },
   "outputs": [
    {
     "name": "stdout",
     "output_type": "stream",
     "text": [
      "[]\n"
     ]
    }
   ],
   "source": [
    "vol = []\n",
    "print(vol)"
   ]
  },
  {
   "cell_type": "markdown",
   "id": "7fd99246",
   "metadata": {},
   "source": [
    "# 单个bus并行时，读取频率和中频设置"
   ]
  },
  {
   "cell_type": "code",
   "execution_count": null,
   "id": "2e71d855",
   "metadata": {
    "ExecuteTime": {
     "end_time": "2023-04-05T07:07:50.038814Z",
     "start_time": "2023-04-05T07:07:50.032813Z"
    }
   },
   "outputs": [],
   "source": [
    "# Bus 8 Q46-48\n",
    "fr_list = [7145, 7235.5, 7092]\n",
    "R_output_freq = int(np.mean(fr_list))\n",
    "R_IF = 1050\n",
    "ProbePower=-25\n",
    "SamplingWidth = 800\n",
    "IF_list = [fr - R_output_freq + R_IF for fr in fr_list]\n",
    "Amp_list = [1 for fr in fr_list]\n",
    "Width_list = [2500 for fr in fr_list]\n",
    "print(f'output_freq:{R_output_freq},intermediate_frequency:{R_IF},baseIF:{IF_list}')"
   ]
  },
  {
   "cell_type": "code",
   "execution_count": null,
   "id": "72414095",
   "metadata": {
    "ExecuteTime": {
     "end_time": "2023-04-04T14:48:11.486820Z",
     "start_time": "2023-04-04T14:48:11.480821Z"
    }
   },
   "outputs": [],
   "source": [
    "# Bus 9 Q52-54\n",
    "fr_list = [7252.5, 7056.5, 7143.5]\n",
    "R_output_freq = int(np.mean(fr_list))\n",
    "R_IF = 1050\n",
    "ProbePower=-25\n",
    "SamplingWidth = 800\n",
    "IF_list = [fr - R_output_freq + R_IF for fr in fr_list]\n",
    "Amp_list = [1 for fr in fr_list]\n",
    "Width_list = [2500 for fr in fr_list]\n",
    "print(f'output_freq:{R_output_freq},intermediate_frequency:{R_IF},baseIF:{IF_list}')"
   ]
  },
  {
   "cell_type": "code",
   "execution_count": null,
   "id": "e36b804d",
   "metadata": {},
   "outputs": [],
   "source": [
    "# Bus 10 Q58-60\n",
    "fr_list = [7117.5, 7196, 7289.5]\n",
    "R_output_freq = int(np.mean(fr_list))\n",
    "R_IF = 1050\n",
    "ProbePower=-25\n",
    "SamplingWidth = 800\n",
    "IF_list = [fr - R_output_freq + R_IF for fr in fr_list]\n",
    "Amp_list = [1 for fr in fr_list]\n",
    "Width_list = [2500 for fr in fr_list]\n",
    "print(f'output_freq:{R_output_freq},intermediate_frequency:{R_IF},baseIF:{IF_list}')"
   ]
  },
  {
   "cell_type": "code",
   "execution_count": null,
   "id": "205ba752",
   "metadata": {
    "ExecuteTime": {
     "end_time": "2023-04-05T08:53:32.997555Z",
     "start_time": "2023-04-05T08:53:32.990548Z"
    }
   },
   "outputs": [],
   "source": [
    "# Bus 11 Q64-66\n",
    "fr_list = [ 7247, 7098]\n",
    "# fr_list = [7041.5, 7247, 7098]\n",
    "R_output_freq = int(np.mean(fr_list))\n",
    "R_IF = 1050\n",
    "ProbePower=-25\n",
    "SamplingWidth = 800\n",
    "IF_list = [fr - R_output_freq + R_IF for fr in fr_list]\n",
    "Amp_list = [1 for fr in fr_list]\n",
    "Width_list = [2500 for fr in fr_list]\n",
    "print(f'output_freq:{R_output_freq},intermediate_frequency:{R_IF},baseIF:{IF_list}')"
   ]
  },
  {
   "cell_type": "markdown",
   "id": "d2c6d260",
   "metadata": {},
   "source": [
    "# 两个bus（共本振） 并行测试时读取频率和中频设置"
   ]
  },
  {
   "cell_type": "code",
   "execution_count": 199,
   "id": "97c267e2",
   "metadata": {
    "ExecuteTime": {
     "end_time": "2023-04-06T05:33:48.598736Z",
     "start_time": "2023-04-06T05:33:48.590759Z"
    }
   },
   "outputs": [
    {
     "name": "stdout",
     "output_type": "stream",
     "text": [
      "output_freq:7143,intermediate_frequency:1050,baseIF:[1052, 1142.5, 999, 948.5, 1154, 1005]\n"
     ]
    }
   ],
   "source": [
    "fr_list1 = [7145, 7235.5, 7092] # [7252.5, 7056.5, 7143.5]\n",
    "fr_list2 = [7041.5, 7247, 7098] #[7117.5, 7196, 7289.5]\n",
    "fr_list = fr_list1 + fr_list2\n",
    "R_output_freq = int(np.mean(fr_list))\n",
    "R_IF = 1050\n",
    "ProbePower=-25\n",
    "SamplingWidth = 1000\n",
    "IF_list = [fr - R_output_freq + R_IF for fr in fr_list]\n",
    "Amp_list = [1 for fr in fr_list]\n",
    "Width_list = [2500 for fr in fr_list]\n",
    "readout_digital_channel_list = [1,2,3, 7,8,9] ### 注意这里的通道编号配置，根据需要设置好对应的读取通道\n",
    "print(f'output_freq:{R_output_freq},intermediate_frequency:{R_IF},baseIF:{IF_list}')"
   ]
  },
  {
   "cell_type": "markdown",
   "id": "8d558c11",
   "metadata": {},
   "source": [
    "# 多个bus时，共本振的通道作为一组设置；每一个本振一组设置"
   ]
  },
  {
   "cell_type": "markdown",
   "id": "367ac7db",
   "metadata": {},
   "source": [
    "# 初始化一个比特和所有待测读取通道"
   ]
  },
  {
   "cell_type": "code",
   "execution_count": 197,
   "id": "05acd458",
   "metadata": {
    "ExecuteTime": {
     "end_time": "2023-04-05T17:22:15.927153Z",
     "start_time": "2023-04-05T17:22:15.914152Z"
    },
    "code_folding": []
   },
   "outputs": [],
   "source": [
    "# \n",
    "m = 52\n",
    "period = 100\n",
    "RDs = []\n",
    "for index in range(len(fr_list)):\n",
    "    readout_digital_channel = readout_digital_channel_list[index]\n",
    "    RWG = ReadoutWaveGenerator(IF_list=[IF_list[index]], Amp_list=[Amp_list[index]], Width_list=[Width_list[index]])\n",
    "    RD = ReadoutControler( RWG,\n",
    "                           serial_number=readout_digital_channel, ### 注意这里的通道编号配置，根据需要设置好对应的读取通道\n",
    "                           vol=vol,\n",
    "                           ProbeFreq=R_output_freq,\n",
    "                           ProbePower=ProbePower,\n",
    "                           SamplingWidth=SamplingWidth,\n",
    "                           ProbeDelay= 50 + probe_delay,\n",
    "                           SamplingDelay=800,\n",
    "                           PowerAtt=30,\n",
    "                           repeat = 1000,\n",
    "                           period = period,\n",
    "                           intermediate_frequency=R_IF,\n",
    "    #                        data_flag='P0-P1',\n",
    "                           data_flag='amp-phase'\n",
    "                         )\n",
    "    RDs.append(RD)\n",
    "\n",
    "IF = 1050\n",
    "f10 = 4560\n",
    "WG = WaveGenerator(Ax1=0.68751, Width=300, w1=2.5,IF=IF,delta=-210,\n",
    "                   Ax2=0.34, alpha=1)\n",
    "WG.Az1 = 0\n",
    "WG.detune1 = -0\n",
    "WG.detune2 = -0\n",
    "WG.Vz = False\n",
    "XY_power = -20\n",
    "WG.rz = None\n",
    "WG.sz = None\n",
    "z_dc = 0         # z_dc 就是monster里的awg_bias\n",
    "XY_freq = f10\n",
    "\n",
    "\n",
    "Q = QubitControler(WG,\n",
    "                   serial_number=m,\n",
    "                   vol=0,\n",
    "                   XY_freq= XY_freq,\n",
    "                   XY_power= XY_power,\n",
    "                   XY_delay= XY_delay,\n",
    "                   Z_delay= Z_delay,\n",
    "                   intermediate_frequency=IF,\n",
    "                   Zcorrect=1,#True,\n",
    "                   Zcompensate=0,\n",
    "                   period =period,\n",
    "                   z_dc=z_dc)\n",
    "Q.Z.correct_list = [C1]\n",
    "Q.XY.channel = 1\n",
    "Q.XY.output = False\n",
    "Q.Z.channel = 12      # 注意bias测调制时，需要用到Z通道，但是不需要Z通道波形输出，所以可以关闭输出\n",
    "Q.Z.output = False\n",
    "\n",
    "add_qubits = []"
   ]
  },
  {
   "cell_type": "markdown",
   "id": "bd2a1970",
   "metadata": {},
   "source": [
    "# 利用copy方法配置其他比特，只需要设置好Z通道和比特编号 ，根据需要可以使用for语句设置"
   ]
  },
  {
   "cell_type": "code",
   "execution_count": 198,
   "id": "2c9b06cd",
   "metadata": {
    "ExecuteTime": {
     "end_time": "2023-04-05T17:22:28.465659Z",
     "start_time": "2023-04-05T17:22:28.446105Z"
    }
   },
   "outputs": [],
   "source": [
    "Q1_copy = copy.deepcopy(Q)\n",
    "\n",
    "Q53 = copy.deepcopy(Q1_copy)\n",
    "Q53.serial_number = '53'   # 比特编号\n",
    "Q53.Z.channel = 1\n",
    "Q53.z_dc = 0.098   # z_dc 就是monster里的awg_bias，扫腔调制可以不用设置，反正会同步扫\n",
    "\n",
    "Q54 = copy.deepcopy(Q1_copy)\n",
    "Q54.serial_number = '54'\n",
    "Q54.Z.channel = 2\n",
    "Q54.z_dc = 0.098\n",
    "\n",
    "Q55 = copy.deepcopy(Q1_copy)\n",
    "Q55.serial_number = '58'\n",
    "Q55.Z.channel = 13\n",
    "Q55.z_dc = 0\n",
    "\n",
    "Q56 = copy.deepcopy(Q1_copy)\n",
    "Q56.serial_number = '59'\n",
    "Q56.Z.channel = 4\n",
    "Q56.z_dc = 0.098\n",
    "\n",
    "Q57 = copy.deepcopy(Q1_copy)\n",
    "Q57.serial_number = '60'\n",
    "Q57.Z.channel = 3\n",
    "Q57.z_dc = 0.098\n",
    "\n",
    "\n",
    "Qubits = [Q, Q53, Q54, Q55, Q56, Q57]"
   ]
  },
  {
   "cell_type": "markdown",
   "id": "7d5e6981",
   "metadata": {},
   "source": [
    "# 开始实验"
   ]
  },
  {
   "cell_type": "code",
   "execution_count": null,
   "id": "030ca79b",
   "metadata": {
    "ExecuteTime": {
     "end_time": "2023-04-04T13:46:43.506261Z",
     "start_time": "2023-04-04T13:46:43.496247Z"
    }
   },
   "outputs": [],
   "source": [
    "from measureflow.MultiQubits.cavity_mq import *"
   ]
  },
  {
   "cell_type": "code",
   "execution_count": null,
   "id": "4a855e28",
   "metadata": {
    "ExecuteTime": {
     "end_time": "2023-04-05T16:57:19.569087Z",
     "start_time": "2023-04-05T16:57:19.556073Z"
    }
   },
   "outputs": [],
   "source": [
    "Sc = Cavity(Qubits, RDs)"
   ]
  },
  {
   "cell_type": "code",
   "execution_count": null,
   "id": "394aa2eb",
   "metadata": {
    "ExecuteTime": {
     "end_time": "2023-04-05T10:00:46.345372Z",
     "start_time": "2023-04-05T10:00:23.671097Z"
    },
    "scrolled": true
   },
   "outputs": [],
   "source": [
    "fc_list = np.linspace(5, -5, 101)\n",
    "res = Sc.scan_fc(fc_list, path=r'E:\\data\\A2\\20230214\\221205-72bit-300pin-V8.2P1-base-4#\\measureflow\\q58-q59-q60-Cavity/')\n",
    "#上面给了一个存储路径是因为measureflow生成的路径太长，不放便，暂时指定了路径，根据需要修改路径"
   ]
  },
  {
   "cell_type": "code",
   "execution_count": null,
   "id": "5a6cf929",
   "metadata": {
    "ExecuteTime": {
     "end_time": "2023-04-05T17:07:00.777283Z",
     "start_time": "2023-04-05T16:57:35.664884Z"
    },
    "scrolled": false
   },
   "outputs": [],
   "source": [
    "# Sc._sz_length = 200\n",
    "Sc.RD.ADDA.ProbePower = -25\n",
    "fc_list = np.linspace(-5, 5,101)\n",
    "z_dc_list = np.linspace(-0.47,0.47,41)\n",
    "Sc.scan_zdc_fc(z_dc_list, fc_list, Plot1D=True, dynamicPlot=False,path=r'E:\\data\\A2\\20230214\\221205-72bit-300pin-V8.2P1-base-4#\\measureflow\\q58-q59-q60-Cavity\\202304052255/')"
   ]
  },
  {
   "cell_type": "code",
   "execution_count": null,
   "id": "f2edcb4b",
   "metadata": {},
   "outputs": [],
   "source": []
  }
 ],
 "metadata": {
  "kernelspec": {
   "display_name": "Python 3 (ipykernel)",
   "language": "python",
   "name": "python3"
  },
  "language_info": {
   "codemirror_mode": {
    "name": "ipython",
    "version": 3
   },
   "file_extension": ".py",
   "mimetype": "text/x-python",
   "name": "python",
   "nbconvert_exporter": "python",
   "pygments_lexer": "ipython3",
   "version": "3.9.16"
  },
  "toc": {
   "base_numbering": 1,
   "nav_menu": {},
   "number_sections": true,
   "sideBar": true,
   "skip_h1_title": false,
   "title_cell": "Table of Contents",
   "title_sidebar": "Contents",
   "toc_cell": false,
   "toc_position": {},
   "toc_section_display": true,
   "toc_window_display": false
  }
 },
 "nbformat": 4,
 "nbformat_minor": 5
}
